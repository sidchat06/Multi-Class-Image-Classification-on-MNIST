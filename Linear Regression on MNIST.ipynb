{
 "cells": [
  {
   "cell_type": "code",
   "execution_count": 1,
   "id": "81aba669",
   "metadata": {},
   "outputs": [],
   "source": [
    "from time import time\n",
    "initial_time = time()"
   ]
  },
  {
   "cell_type": "code",
   "execution_count": 2,
   "id": "f3ec233f",
   "metadata": {},
   "outputs": [],
   "source": [
    "import numpy as np\n",
    "import pandas as pd\n",
    "import matplotlib as mpl\n",
    "import matplotlib.pyplot as plt"
   ]
  },
  {
   "cell_type": "code",
   "execution_count": 3,
   "id": "6ac7e603",
   "metadata": {},
   "outputs": [],
   "source": [
    "from sklearn.datasets import fetch_openml\n",
    "mnist = fetch_openml('mnist_784', version = 1)"
   ]
  },
  {
   "cell_type": "code",
   "execution_count": 4,
   "id": "2d6c7940",
   "metadata": {},
   "outputs": [
    {
     "name": "stdout",
     "output_type": "stream",
     "text": [
      "40.035566091537476\n"
     ]
    }
   ],
   "source": [
    "data_load_time = time() - initial_time\n",
    "print(data_load_time)"
   ]
  },
  {
   "cell_type": "code",
   "execution_count": 5,
   "id": "8e15dbbb",
   "metadata": {},
   "outputs": [],
   "source": [
    "x, y = mnist[\"data\"], mnist[\"target\"]"
   ]
  },
  {
   "cell_type": "code",
   "execution_count": 6,
   "id": "1a516907",
   "metadata": {},
   "outputs": [],
   "source": [
    "y = y.astype(np.uint8)"
   ]
  },
  {
   "cell_type": "code",
   "execution_count": 7,
   "id": "5f9e506d",
   "metadata": {},
   "outputs": [],
   "source": [
    "x_train, x_test = x[:60000], x[60000:70000]\n",
    "y_train, y_test = y[:60000], y[60000:70000]"
   ]
  },
  {
   "cell_type": "code",
   "execution_count": 8,
   "id": "ed6b8e7d",
   "metadata": {},
   "outputs": [
    {
     "name": "stdout",
     "output_type": "stream",
     "text": [
      "x_train shape :  (60000, 784)\n",
      "x_test shape  :  (10000, 784)\n",
      "y_train shape :  (60000,)\n",
      "y_test shape  :  (10000,)\n"
     ]
    }
   ],
   "source": [
    "print(\"x_train shape : \", x_train.shape)\n",
    "print(\"x_test shape  : \", x_test.shape)\n",
    "print(\"y_train shape : \", y_train.shape)\n",
    "print(\"y_test shape  : \", y_test.shape)"
   ]
  },
  {
   "cell_type": "code",
   "execution_count": 9,
   "id": "34e2f382",
   "metadata": {},
   "outputs": [],
   "source": [
    "algorithm_execution_time1 = time()\n",
    "\n",
    "from sklearn.linear_model import LinearRegression\n",
    "\n",
    "lr = LinearRegression()\n",
    "lr.fit(x_train, y_train)\n",
    "\n",
    "algorithm_execution_time2 = time() - algorithm_execution_time1"
   ]
  },
  {
   "cell_type": "code",
   "execution_count": 10,
   "id": "78ab3636",
   "metadata": {},
   "outputs": [],
   "source": [
    "y_pred = lr.predict(x_test)\n",
    "\n",
    "y_pred_rounded = np.round(y_pred)\n",
    "\n",
    "y_pred_int = y_pred_rounded.astype(int)\n",
    "\n",
    "y_pred_int = np.where(y_pred < 0, 0, y_pred_int)\n",
    "y_pred_int = np.where(y_pred > 9, 9, y_pred_int)"
   ]
  },
  {
   "cell_type": "code",
   "execution_count": 12,
   "id": "847679c3",
   "metadata": {},
   "outputs": [
    {
     "name": "stdout",
     "output_type": "stream",
     "text": [
      "[[228 323 258 104  35  22   8   2   0   0]\n",
      " [  1 238 559 224  89  16   7   1   0   0]\n",
      " [ 35 124 236 305 224  84  20   1   3   0]\n",
      " [  8  43 196 326 270 102  41  12   9   3]\n",
      " [  0   0   6  36 198 338 249 115  37   3]\n",
      " [  0   3  21 118 252 291 143  34  19  11]\n",
      " [  3   4  23  73 152 269 269 118  45   2]\n",
      " [  0   1   7  25  73 144 244 284 153  97]\n",
      " [  0   1  10  26  99 189 281 227 103  38]\n",
      " [  0   1   5   8  25  59 144 313 319 135]]\n",
      "              precision    recall  f1-score   support\n",
      "\n",
      "           0       0.83      0.23      0.36       980\n",
      "           1       0.32      0.21      0.25      1135\n",
      "           2       0.18      0.23      0.20      1032\n",
      "           3       0.26      0.32      0.29      1010\n",
      "           4       0.14      0.20      0.17       982\n",
      "           5       0.19      0.33      0.24       892\n",
      "           6       0.19      0.28      0.23       958\n",
      "           7       0.26      0.28      0.27      1028\n",
      "           8       0.15      0.11      0.12       974\n",
      "           9       0.47      0.13      0.21      1009\n",
      "\n",
      "    accuracy                           0.23     10000\n",
      "   macro avg       0.30      0.23      0.23     10000\n",
      "weighted avg       0.30      0.23      0.23     10000\n",
      "\n"
     ]
    }
   ],
   "source": [
    "from sklearn.metrics import classification_report, confusion_matrix\n",
    "print(confusion_matrix(y_test, y_pred_int))\n",
    "print(classification_report(y_test, y_pred_int))"
   ]
  },
  {
   "cell_type": "code",
   "execution_count": 13,
   "id": "8a9e7067",
   "metadata": {},
   "outputs": [
    {
     "name": "stdout",
     "output_type": "stream",
     "text": [
      "4.117211818695068\n"
     ]
    }
   ],
   "source": [
    "print(algorithm_execution_time2)"
   ]
  },
  {
   "cell_type": "code",
   "execution_count": null,
   "id": "98ac6b13",
   "metadata": {},
   "outputs": [],
   "source": []
  }
 ],
 "metadata": {
  "kernelspec": {
   "display_name": "Python 3",
   "language": "python",
   "name": "python3"
  },
  "language_info": {
   "codemirror_mode": {
    "name": "ipython",
    "version": 3
   },
   "file_extension": ".py",
   "mimetype": "text/x-python",
   "name": "python",
   "nbconvert_exporter": "python",
   "pygments_lexer": "ipython3",
   "version": "3.8.8"
  }
 },
 "nbformat": 4,
 "nbformat_minor": 5
}
