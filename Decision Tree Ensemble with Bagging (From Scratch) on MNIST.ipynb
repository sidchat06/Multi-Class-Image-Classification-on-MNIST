{
 "cells": [
  {
   "cell_type": "markdown",
   "id": "d99aacbf",
   "metadata": {},
   "source": [
    "## IMPORTING LIBRARIES"
   ]
  },
  {
   "cell_type": "code",
   "execution_count": 1,
   "id": "5b890780",
   "metadata": {},
   "outputs": [],
   "source": [
    "import numpy as np\n",
    "import pandas as pd\n",
    "import random\n",
    "import statistics\n",
    "from sklearn.svm import SVC\n",
    "from sklearn.tree import DecisionTreeClassifier\n",
    "from sklearn.metrics import classification_report, confusion_matrix, accuracy_score\n",
    "from sklearn.datasets import fetch_openml\n",
    "mnist = fetch_openml('mnist_784', version = 1)"
   ]
  },
  {
   "cell_type": "code",
   "execution_count": 2,
   "id": "ef5d175d",
   "metadata": {},
   "outputs": [],
   "source": [
    "x, y = mnist.data, mnist.target\n",
    "y = y.astype(np.uint8)"
   ]
  },
  {
   "cell_type": "code",
   "execution_count": 3,
   "id": "90132b2f",
   "metadata": {},
   "outputs": [],
   "source": [
    "x_train, x_test = x[:60000], x[60000:]\n",
    "y_train, y_test = y[:60000], y[60000:]"
   ]
  },
  {
   "cell_type": "markdown",
   "id": "7185c34e",
   "metadata": {},
   "source": [
    "## CREATING MODEL AND GENERATING DATASET"
   ]
  },
  {
   "cell_type": "code",
   "execution_count": 6,
   "id": "770a5478",
   "metadata": {},
   "outputs": [],
   "source": [
    "def Model(x_train, y_train, x_test):\n",
    "    random_x_train = pd.DataFrame()\n",
    "    random_y_train = y_train.copy()\n",
    "\n",
    "    i = 0\n",
    "    while i < 6000:\n",
    "        a = random.randint(0, 59999)\n",
    "        random_x_train[i] = x_train.iloc[a]\n",
    "        random_y_train[i] = y_train.iloc[a]\n",
    "        i = i + 1\n",
    "    \n",
    "    random_x_train_transpose = random_x_train.transpose()\n",
    "    random_y_train_cut = random_y_train[:6000]\n",
    "    \n",
    "    classifier = DecisionTreeClassifier()\n",
    "    classifier.fit(random_x_train_transpose, random_y_train_cut)\n",
    "\n",
    "    y_predict = classifier.predict(x_test)\n",
    "    \n",
    "    return y_predict"
   ]
  },
  {
   "cell_type": "markdown",
   "id": "713e581e",
   "metadata": {},
   "source": [
    "## CALCULATING PREDICTED VALUES FOR EACH DATASET/MODEL"
   ]
  },
  {
   "cell_type": "code",
   "execution_count": 7,
   "id": "3e66d090",
   "metadata": {},
   "outputs": [
    {
     "name": "stdout",
     "output_type": "stream",
     "text": [
      "[[ 855    6   20    7    5   22   21   10   13   21]\n",
      " [   0 1038   10    5   14   13    3    3   48    1]\n",
      " [  18   22  765   54   23   23   31   30   51   15]\n",
      " [  11   14   24  739    6   84   19   33   49   31]\n",
      " [   5   13   25   10  780   11   23   19   22   74]\n",
      " [  20   15   26   67   23  593   45   21   45   37]\n",
      " [  19    8   19    7   19   35  794    6   40   11]\n",
      " [   8   15   29   22   20   10    0  848   24   52]\n",
      " [  20   22   54   45   29   40   41   12  662   49]\n",
      " [  15    9   13   42   54   16   14   47   20  779]]\n",
      "              precision    recall  f1-score   support\n",
      "\n",
      "           0       0.88      0.87      0.88       980\n",
      "           1       0.89      0.91      0.90      1135\n",
      "           2       0.78      0.74      0.76      1032\n",
      "           3       0.74      0.73      0.74      1010\n",
      "           4       0.80      0.79      0.80       982\n",
      "           5       0.70      0.66      0.68       892\n",
      "           6       0.80      0.83      0.81       958\n",
      "           7       0.82      0.82      0.82      1028\n",
      "           8       0.68      0.68      0.68       974\n",
      "           9       0.73      0.77      0.75      1009\n",
      "\n",
      "    accuracy                           0.79     10000\n",
      "   macro avg       0.78      0.78      0.78     10000\n",
      "weighted avg       0.78      0.79      0.78     10000\n",
      "\n",
      "78.53\n"
     ]
    }
   ],
   "source": [
    "predicted_values_1 = Model(x_train, y_train, x_test)\n",
    "\n",
    "print(confusion_matrix(y_test, predicted_values_1))\n",
    "print(classification_report(y_test, predicted_values_1))\n",
    "print(accuracy_score(y_test, predicted_values_1) * 100)"
   ]
  },
  {
   "cell_type": "code",
   "execution_count": 8,
   "id": "ea28a7f6",
   "metadata": {},
   "outputs": [
    {
     "name": "stdout",
     "output_type": "stream",
     "text": [
      "[[ 843    1   17   24    8   20   22    8   15   22]\n",
      " [   1 1064   16    7    8   17    4    7    9    2]\n",
      " [  25   19  772   44   27    9   37   26   57   16]\n",
      " [  18   10   53  723    7   73   19   26   57   24]\n",
      " [   8   12   12   13  807   21   10   18   14   67]\n",
      " [  27   25   15   91   18  598   34   17   31   36]\n",
      " [  33    9   30   13   25   32  780    5   21   10]\n",
      " [   8   13   35   23    7    5    6  889   22   20]\n",
      " [  24   22   42   59   32   37   39   20  652   47]\n",
      " [  16    5   19   24   42   26   12   41   34  790]]\n",
      "              precision    recall  f1-score   support\n",
      "\n",
      "           0       0.84      0.86      0.85       980\n",
      "           1       0.90      0.94      0.92      1135\n",
      "           2       0.76      0.75      0.76      1032\n",
      "           3       0.71      0.72      0.71      1010\n",
      "           4       0.82      0.82      0.82       982\n",
      "           5       0.71      0.67      0.69       892\n",
      "           6       0.81      0.81      0.81       958\n",
      "           7       0.84      0.86      0.85      1028\n",
      "           8       0.71      0.67      0.69       974\n",
      "           9       0.76      0.78      0.77      1009\n",
      "\n",
      "    accuracy                           0.79     10000\n",
      "   macro avg       0.79      0.79      0.79     10000\n",
      "weighted avg       0.79      0.79      0.79     10000\n",
      "\n",
      "79.17999999999999\n"
     ]
    }
   ],
   "source": [
    "predicted_values_2 = Model(x_train, y_train, x_test)\n",
    "\n",
    "print(confusion_matrix(y_test, predicted_values_2))\n",
    "print(classification_report(y_test, predicted_values_2))\n",
    "print(accuracy_score(y_test, predicted_values_2) * 100)"
   ]
  },
  {
   "cell_type": "code",
   "execution_count": 9,
   "id": "4ddddc3c",
   "metadata": {},
   "outputs": [
    {
     "name": "stdout",
     "output_type": "stream",
     "text": [
      "[[ 871    1   13    4   16   25   16   12   10   12]\n",
      " [   0 1070   10    9    1    7   10   12   13    3]\n",
      " [  17   22  795   27   27   14   35   31   43   21]\n",
      " [   7    6   38  764    9   92    2   15   58   19]\n",
      " [  12   16   16   19  756   14   34   28   19   68]\n",
      " [  19   16   13   79   14  633   27   26   38   27]\n",
      " [  22   10   19    9   27   43  806    8   12    2]\n",
      " [   5   15   41   12   23    9    7  864   13   39]\n",
      " [  23   21   74   41   28   58   46   21  631   31]\n",
      " [  13    2   24   32   72   41   10   33   27  755]]\n",
      "              precision    recall  f1-score   support\n",
      "\n",
      "           0       0.88      0.89      0.88       980\n",
      "           1       0.91      0.94      0.92      1135\n",
      "           2       0.76      0.77      0.77      1032\n",
      "           3       0.77      0.76      0.76      1010\n",
      "           4       0.78      0.77      0.77       982\n",
      "           5       0.68      0.71      0.69       892\n",
      "           6       0.81      0.84      0.83       958\n",
      "           7       0.82      0.84      0.83      1028\n",
      "           8       0.73      0.65      0.69       974\n",
      "           9       0.77      0.75      0.76      1009\n",
      "\n",
      "    accuracy                           0.79     10000\n",
      "   macro avg       0.79      0.79      0.79     10000\n",
      "weighted avg       0.79      0.79      0.79     10000\n",
      "\n",
      "79.45\n"
     ]
    }
   ],
   "source": [
    "predicted_values_3 = Model(x_train, y_train, x_test)\n",
    "\n",
    "print(confusion_matrix(y_test, predicted_values_3))\n",
    "print(classification_report(y_test, predicted_values_3))\n",
    "print(accuracy_score(y_test, predicted_values_3) * 100)"
   ]
  },
  {
   "cell_type": "code",
   "execution_count": 10,
   "id": "10cae12d",
   "metadata": {},
   "outputs": [
    {
     "name": "stdout",
     "output_type": "stream",
     "text": [
      "[[ 852    8   21    7    9   31   21   10    9   12]\n",
      " [   0 1018   37   18    6    3    7   13   29    4]\n",
      " [  17   36  770   32   18   16   49   35   44   15]\n",
      " [  17   16   23  728   20   87   13   32   45   29]\n",
      " [   9   11   13    6  777   11   20   24   41   70]\n",
      " [  27   12    7   67   22  629   35   20   35   38]\n",
      " [  27    8   26    5   26   17  809    9   26    5]\n",
      " [   5   17   30   17   13   14    0  856   19   57]\n",
      " [  33   27   28   37   41   40   26   12  692   38]\n",
      " [  13   10    8   28   80   29    7   44   34  756]]\n",
      "              precision    recall  f1-score   support\n",
      "\n",
      "           0       0.85      0.87      0.86       980\n",
      "           1       0.88      0.90      0.89      1135\n",
      "           2       0.80      0.75      0.77      1032\n",
      "           3       0.77      0.72      0.74      1010\n",
      "           4       0.77      0.79      0.78       982\n",
      "           5       0.72      0.71      0.71       892\n",
      "           6       0.82      0.84      0.83       958\n",
      "           7       0.81      0.83      0.82      1028\n",
      "           8       0.71      0.71      0.71       974\n",
      "           9       0.74      0.75      0.74      1009\n",
      "\n",
      "    accuracy                           0.79     10000\n",
      "   macro avg       0.79      0.79      0.79     10000\n",
      "weighted avg       0.79      0.79      0.79     10000\n",
      "\n",
      "78.86999999999999\n"
     ]
    }
   ],
   "source": [
    "predicted_values_4 = Model(x_train, y_train, x_test)\n",
    "\n",
    "print(confusion_matrix(y_test, predicted_values_4))\n",
    "print(classification_report(y_test, predicted_values_4))\n",
    "print(accuracy_score(y_test, predicted_values_4) * 100)"
   ]
  },
  {
   "cell_type": "code",
   "execution_count": 11,
   "id": "3e340432",
   "metadata": {},
   "outputs": [
    {
     "name": "stdout",
     "output_type": "stream",
     "text": [
      "[[ 852    2   17    9    7   28   26   16   10   13]\n",
      " [   0 1062   16   11    2    6    8   10   16    4]\n",
      " [  22   33  770   44   16   18   41   21   44   23]\n",
      " [  14   11   38  771    9  100   12   15   15   25]\n",
      " [   8    6   29   13  764   17   29   14   35   67]\n",
      " [  27   23   16  104   21  606   29   18   23   25]\n",
      " [  22    1   26    7   30   32  791    5   28   16]\n",
      " [   5   31   39   27   18    8    4  829   17   50]\n",
      " [  30   10   45   44   21   33   61    4  675   51]\n",
      " [  14   13   19   26   59   21    9   69   45  734]]\n",
      "              precision    recall  f1-score   support\n",
      "\n",
      "           0       0.86      0.87      0.86       980\n",
      "           1       0.89      0.94      0.91      1135\n",
      "           2       0.76      0.75      0.75      1032\n",
      "           3       0.73      0.76      0.75      1010\n",
      "           4       0.81      0.78      0.79       982\n",
      "           5       0.70      0.68      0.69       892\n",
      "           6       0.78      0.83      0.80       958\n",
      "           7       0.83      0.81      0.82      1028\n",
      "           8       0.74      0.69      0.72       974\n",
      "           9       0.73      0.73      0.73      1009\n",
      "\n",
      "    accuracy                           0.79     10000\n",
      "   macro avg       0.78      0.78      0.78     10000\n",
      "weighted avg       0.78      0.79      0.78     10000\n",
      "\n",
      "78.53999999999999\n"
     ]
    }
   ],
   "source": [
    "predicted_values_5 = Model(x_train, y_train, x_test)\n",
    "\n",
    "print(confusion_matrix(y_test, predicted_values_5))\n",
    "print(classification_report(y_test, predicted_values_5))\n",
    "print(accuracy_score(y_test, predicted_values_5) * 100)"
   ]
  },
  {
   "cell_type": "code",
   "execution_count": 12,
   "id": "5d82271e",
   "metadata": {},
   "outputs": [
    {
     "name": "stdout",
     "output_type": "stream",
     "text": [
      "[[ 855    1   19   11   14   19   21   16   11   13]\n",
      " [   0 1026   15   12   12   23   13    4   30    0]\n",
      " [  21   24  753   36   41   23   39   30   47   18]\n",
      " [  13    8   38  707   17   87   26   24   63   27]\n",
      " [   5   10   12   10  745   15   30   24   36   95]\n",
      " [  26   17   16   86   17  577   70   26   33   24]\n",
      " [  18    7   17   11   39   50  778   11   17   10]\n",
      " [  10    9   33   19   18   10    3  875   18   33]\n",
      " [  17   33   47   67   30   32   26   26  649   47]\n",
      " [   7    7   26   21   60   22    5   52   30  779]]\n",
      "              precision    recall  f1-score   support\n",
      "\n",
      "           0       0.88      0.87      0.88       980\n",
      "           1       0.90      0.90      0.90      1135\n",
      "           2       0.77      0.73      0.75      1032\n",
      "           3       0.72      0.70      0.71      1010\n",
      "           4       0.75      0.76      0.75       982\n",
      "           5       0.67      0.65      0.66       892\n",
      "           6       0.77      0.81      0.79       958\n",
      "           7       0.80      0.85      0.83      1028\n",
      "           8       0.69      0.67      0.68       974\n",
      "           9       0.74      0.77      0.76      1009\n",
      "\n",
      "    accuracy                           0.77     10000\n",
      "   macro avg       0.77      0.77      0.77     10000\n",
      "weighted avg       0.77      0.77      0.77     10000\n",
      "\n",
      "77.44\n"
     ]
    }
   ],
   "source": [
    "predicted_values_6 = Model(x_train, y_train, x_test)\n",
    "\n",
    "print(confusion_matrix(y_test, predicted_values_6))\n",
    "print(classification_report(y_test, predicted_values_6))\n",
    "print(accuracy_score(y_test, predicted_values_6) * 100)"
   ]
  },
  {
   "cell_type": "code",
   "execution_count": 13,
   "id": "cfc4aa2c",
   "metadata": {},
   "outputs": [
    {
     "name": "stdout",
     "output_type": "stream",
     "text": [
      "[[ 831    2   42   12   13   35   10    6   18   11]\n",
      " [   1 1060    8   11   12    7    8    5   20    3]\n",
      " [  32   21  729   69   24   19   38   21   62   17]\n",
      " [  22   30   31  719   10   68    9   21   76   24]\n",
      " [  10   10   17   14  793    8   17   22   35   56]\n",
      " [  16   26   26   59   20  627   35   19   24   40]\n",
      " [  18    8   22   16   32   24  803    4   25    6]\n",
      " [   8   12   27   34    9   11    3  860   20   44]\n",
      " [  15   31   37   48   26   40   31    8  698   40]\n",
      " [  11    8   11   45   62   18    7   41   41  765]]\n",
      "              precision    recall  f1-score   support\n",
      "\n",
      "           0       0.86      0.85      0.85       980\n",
      "           1       0.88      0.93      0.90      1135\n",
      "           2       0.77      0.71      0.74      1032\n",
      "           3       0.70      0.71      0.71      1010\n",
      "           4       0.79      0.81      0.80       982\n",
      "           5       0.73      0.70      0.72       892\n",
      "           6       0.84      0.84      0.84       958\n",
      "           7       0.85      0.84      0.85      1028\n",
      "           8       0.68      0.72      0.70       974\n",
      "           9       0.76      0.76      0.76      1009\n",
      "\n",
      "    accuracy                           0.79     10000\n",
      "   macro avg       0.79      0.79      0.79     10000\n",
      "weighted avg       0.79      0.79      0.79     10000\n",
      "\n",
      "78.85\n"
     ]
    }
   ],
   "source": [
    "predicted_values_7 = Model(x_train, y_train, x_test)\n",
    "\n",
    "print(confusion_matrix(y_test, predicted_values_7))\n",
    "print(classification_report(y_test, predicted_values_7))\n",
    "print(accuracy_score(y_test, predicted_values_7) * 100)"
   ]
  },
  {
   "cell_type": "code",
   "execution_count": 14,
   "id": "506fdf3e",
   "metadata": {},
   "outputs": [
    {
     "name": "stdout",
     "output_type": "stream",
     "text": [
      "[[ 864    1   13   17    6   40   17    4    8   10]\n",
      " [   2 1040   12   16    3    4   11   18   22    7]\n",
      " [  28   44  735   39   23   14   33   29   65   22]\n",
      " [  10   18   33  748   13   83   26   18   36   25]\n",
      " [   4    8   29   11  742   23   12   14   46   93]\n",
      " [  32   13   13   59   19  631   40   14   37   34]\n",
      " [  25    8   44    9   32   36  769    5   19   11]\n",
      " [  10   19   27   18   19    3    5  865    9   53]\n",
      " [   9   19   34   38   43   39   42   15  690   45]\n",
      " [  13    9   36   20   76   31    7   33   34  750]]\n",
      "              precision    recall  f1-score   support\n",
      "\n",
      "           0       0.87      0.88      0.87       980\n",
      "           1       0.88      0.92      0.90      1135\n",
      "           2       0.75      0.71      0.73      1032\n",
      "           3       0.77      0.74      0.75      1010\n",
      "           4       0.76      0.76      0.76       982\n",
      "           5       0.70      0.71      0.70       892\n",
      "           6       0.80      0.80      0.80       958\n",
      "           7       0.85      0.84      0.85      1028\n",
      "           8       0.71      0.71      0.71       974\n",
      "           9       0.71      0.74      0.73      1009\n",
      "\n",
      "    accuracy                           0.78     10000\n",
      "   macro avg       0.78      0.78      0.78     10000\n",
      "weighted avg       0.78      0.78      0.78     10000\n",
      "\n",
      "78.34\n"
     ]
    }
   ],
   "source": [
    "predicted_values_8 = Model(x_train, y_train, x_test)\n",
    "\n",
    "print(confusion_matrix(y_test, predicted_values_8))\n",
    "print(classification_report(y_test, predicted_values_8))\n",
    "print(accuracy_score(y_test, predicted_values_8) * 100)"
   ]
  },
  {
   "cell_type": "code",
   "execution_count": 15,
   "id": "09e9c9fd",
   "metadata": {},
   "outputs": [
    {
     "name": "stdout",
     "output_type": "stream",
     "text": [
      "[[ 853    1   26   18    4   28   11   17    9   13]\n",
      " [   0 1041   11   25    7    7    8    9   26    1]\n",
      " [  29   18  766   50   23   19   21   25   57   24]\n",
      " [  12   10   35  717   14   82   22   15   63   40]\n",
      " [   7    4   27   10  799   10   28   13   17   67]\n",
      " [  28   11   18   78   32  621   30   15   33   26]\n",
      " [  27    9   23   17   28   30  786    2   30    6]\n",
      " [   1   21   25   25   19    9    0  862    9   57]\n",
      " [  22   17   45   41   40   48   26   24  671   40]\n",
      " [   6    7   14   26   70   16    5   31   34  800]]\n",
      "              precision    recall  f1-score   support\n",
      "\n",
      "           0       0.87      0.87      0.87       980\n",
      "           1       0.91      0.92      0.92      1135\n",
      "           2       0.77      0.74      0.76      1032\n",
      "           3       0.71      0.71      0.71      1010\n",
      "           4       0.77      0.81      0.79       982\n",
      "           5       0.71      0.70      0.70       892\n",
      "           6       0.84      0.82      0.83       958\n",
      "           7       0.85      0.84      0.84      1028\n",
      "           8       0.71      0.69      0.70       974\n",
      "           9       0.74      0.79      0.77      1009\n",
      "\n",
      "    accuracy                           0.79     10000\n",
      "   macro avg       0.79      0.79      0.79     10000\n",
      "weighted avg       0.79      0.79      0.79     10000\n",
      "\n",
      "79.16\n"
     ]
    }
   ],
   "source": [
    "predicted_values_9 = Model(x_train, y_train, x_test)\n",
    "\n",
    "print(confusion_matrix(y_test, predicted_values_9))\n",
    "print(classification_report(y_test, predicted_values_9))\n",
    "print(accuracy_score(y_test, predicted_values_9) * 100)"
   ]
  },
  {
   "cell_type": "code",
   "execution_count": 16,
   "id": "614d69e6",
   "metadata": {},
   "outputs": [
    {
     "name": "stdout",
     "output_type": "stream",
     "text": [
      "[[ 852    1   17   19    9   32   26   12    6    6]\n",
      " [   5 1032   18   17    7    5    6   14   22    9]\n",
      " [  28   20  752   66   20   20   37   30   32   27]\n",
      " [  15   10   35  754    8   70   14   22   55   27]\n",
      " [   7   11   13   13  785   25   16   24   32   56]\n",
      " [  24   13    7   75   10  651   33   16   34   29]\n",
      " [  22    8   22   15   27   44  787    6   19    8]\n",
      " [   4   19   35   20   12   14    3  858   10   53]\n",
      " [  19   18   42   63   39   46   20   22  669   36]\n",
      " [   6    4   16   40   54   30   10   35   41  773]]\n",
      "              precision    recall  f1-score   support\n",
      "\n",
      "           0       0.87      0.87      0.87       980\n",
      "           1       0.91      0.91      0.91      1135\n",
      "           2       0.79      0.73      0.76      1032\n",
      "           3       0.70      0.75      0.72      1010\n",
      "           4       0.81      0.80      0.80       982\n",
      "           5       0.69      0.73      0.71       892\n",
      "           6       0.83      0.82      0.82       958\n",
      "           7       0.83      0.83      0.83      1028\n",
      "           8       0.73      0.69      0.71       974\n",
      "           9       0.75      0.77      0.76      1009\n",
      "\n",
      "    accuracy                           0.79     10000\n",
      "   macro avg       0.79      0.79      0.79     10000\n",
      "weighted avg       0.79      0.79      0.79     10000\n",
      "\n",
      "79.13\n"
     ]
    }
   ],
   "source": [
    "predicted_values_10 = Model(x_train, y_train, x_test)\n",
    "\n",
    "print(confusion_matrix(y_test, predicted_values_10))\n",
    "print(classification_report(y_test, predicted_values_10))\n",
    "print(accuracy_score(y_test, predicted_values_10) * 100)"
   ]
  },
  {
   "cell_type": "markdown",
   "id": "67534bfa",
   "metadata": {},
   "source": [
    "## VOTING AMONG ALL PREDICTED VALUES"
   ]
  },
  {
   "cell_type": "code",
   "execution_count": 17,
   "id": "b24115c6",
   "metadata": {},
   "outputs": [],
   "source": [
    "df_voting = pd.DataFrame()\n",
    "\n",
    "df_voting[0] = predicted_values_1\n",
    "df_voting[1] = predicted_values_2\n",
    "df_voting[2] = predicted_values_3\n",
    "df_voting[3] = predicted_values_4\n",
    "df_voting[4] = predicted_values_5\n",
    "df_voting[5] = predicted_values_6\n",
    "df_voting[6] = predicted_values_7\n",
    "df_voting[7] = predicted_values_8\n",
    "df_voting[8] = predicted_values_9\n",
    "df_voting[9] = predicted_values_10\n",
    "\n",
    "y_pre_final = df_voting.mode(axis = 1, numeric_only = True)\n",
    "y_final = np.array(y_pre_final[0])"
   ]
  },
  {
   "cell_type": "markdown",
   "id": "c33092f5",
   "metadata": {},
   "source": [
    "## EVALUATING FINAL PREDICTED VALUES"
   ]
  },
  {
   "cell_type": "code",
   "execution_count": 18,
   "id": "7d3b9bf2",
   "metadata": {},
   "outputs": [
    {
     "name": "stdout",
     "output_type": "stream",
     "text": [
      "[[ 952    2    2    2    2   10    3    3    4    0]\n",
      " [   0 1113    6    2    2    3    3    0    6    0]\n",
      " [  15    7  943   12   11    2   13   16   10    3]\n",
      " [   7    1   31  897    1   30    4   11   23    5]\n",
      " [   4    4   11    6  877    4    7    9   13   47]\n",
      " [  16   11    5   44    5  767   18    8    8   10]\n",
      " [  15    4    7    2    7   15  901    1    6    0]\n",
      " [   2   14   30    7    2    2    0  943   13   15]\n",
      " [  12    9   20   21   15   19   14    3  843   18]\n",
      " [  13    7    9   22   36    5    4   10   14  889]]\n",
      "              precision    recall  f1-score   support\n",
      "\n",
      "           0       0.92      0.97      0.94       980\n",
      "           1       0.95      0.98      0.96      1135\n",
      "           2       0.89      0.91      0.90      1032\n",
      "           3       0.88      0.89      0.89      1010\n",
      "           4       0.92      0.89      0.90       982\n",
      "           5       0.89      0.86      0.88       892\n",
      "           6       0.93      0.94      0.94       958\n",
      "           7       0.94      0.92      0.93      1028\n",
      "           8       0.90      0.87      0.88       974\n",
      "           9       0.90      0.88      0.89      1009\n",
      "\n",
      "    accuracy                           0.91     10000\n",
      "   macro avg       0.91      0.91      0.91     10000\n",
      "weighted avg       0.91      0.91      0.91     10000\n",
      "\n",
      "91.25\n"
     ]
    }
   ],
   "source": [
    "print(confusion_matrix(y_test, y_final))\n",
    "print(classification_report(y_test, y_final))\n",
    "print(accuracy_score(y_test, y_final) * 100)"
   ]
  },
  {
   "cell_type": "code",
   "execution_count": null,
   "id": "783c91c4",
   "metadata": {},
   "outputs": [],
   "source": []
  }
 ],
 "metadata": {
  "kernelspec": {
   "display_name": "Python 3",
   "language": "python",
   "name": "python3"
  },
  "language_info": {
   "codemirror_mode": {
    "name": "ipython",
    "version": 3
   },
   "file_extension": ".py",
   "mimetype": "text/x-python",
   "name": "python",
   "nbconvert_exporter": "python",
   "pygments_lexer": "ipython3",
   "version": "3.8.8"
  }
 },
 "nbformat": 4,
 "nbformat_minor": 5
}
