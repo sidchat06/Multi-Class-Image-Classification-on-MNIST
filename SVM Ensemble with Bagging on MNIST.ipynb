{
 "cells": [
  {
   "cell_type": "code",
   "execution_count": 1,
   "id": "0addf39a",
   "metadata": {},
   "outputs": [],
   "source": [
    "from time import time\n",
    "initial_time = time()"
   ]
  },
  {
   "cell_type": "code",
   "execution_count": 2,
   "id": "8dca5f45",
   "metadata": {},
   "outputs": [],
   "source": [
    "import numpy as np\n",
    "import pandas as pd"
   ]
  },
  {
   "cell_type": "code",
   "execution_count": 3,
   "id": "f73593d8",
   "metadata": {},
   "outputs": [],
   "source": [
    "from sklearn.datasets import fetch_openml\n",
    "mnist = fetch_openml('mnist_784', version = 1)"
   ]
  },
  {
   "cell_type": "code",
   "execution_count": 4,
   "id": "19f77edb",
   "metadata": {},
   "outputs": [
    {
     "name": "stdout",
     "output_type": "stream",
     "text": [
      "44.63833951950073\n"
     ]
    }
   ],
   "source": [
    "data_load_time = time() - initial_time\n",
    "print(data_load_time)"
   ]
  },
  {
   "cell_type": "code",
   "execution_count": 5,
   "id": "bf154f13",
   "metadata": {},
   "outputs": [],
   "source": [
    "x, y = mnist.data, mnist.target"
   ]
  },
  {
   "cell_type": "code",
   "execution_count": 6,
   "id": "71a02f38",
   "metadata": {},
   "outputs": [],
   "source": [
    "y = y.astype(np.uint8)"
   ]
  },
  {
   "cell_type": "code",
   "execution_count": 7,
   "id": "ea753beb",
   "metadata": {},
   "outputs": [],
   "source": [
    "x_train, x_test = x[:60000], x[60000:70000]\n",
    "y_train, y_test = y[:60000], y[60000:70000]"
   ]
  },
  {
   "cell_type": "code",
   "execution_count": 8,
   "id": "3c463c4b",
   "metadata": {},
   "outputs": [],
   "source": [
    "algorithm_execution_time1 = time()\n",
    "\n",
    "from sklearn.svm import SVC\n",
    "from sklearn.ensemble import BaggingClassifier\n",
    "\n",
    "svc_model = SVC()\n",
    "bagging_model = BaggingClassifier(base_estimator = svc_model, n_estimators=10, max_samples = 0.8, bootstrap=True, random_state = 42)\n",
    "bagging_model.fit(x_train, y_train)\n",
    "\n",
    "algorithm_execution_time2 = time() - algorithm_execution_time1"
   ]
  },
  {
   "cell_type": "code",
   "execution_count": 9,
   "id": "81ff3bfc",
   "metadata": {},
   "outputs": [],
   "source": [
    "y_predict = bagging_model.predict(x_test)"
   ]
  },
  {
   "cell_type": "code",
   "execution_count": 10,
   "id": "94ba2bec",
   "metadata": {},
   "outputs": [
    {
     "name": "stdout",
     "output_type": "stream",
     "text": [
      "[[ 973    0    1    0    0    2    1    1    2    0]\n",
      " [   0 1126    3    1    0    1    1    1    2    0]\n",
      " [   5    1 1009    2    1    0    1    7    5    1]\n",
      " [   0    0    3  992    0    3    0    6    5    1]\n",
      " [   0    0    5    0  963    0    3    0    1   10]\n",
      " [   2    0    0   11    1  870    4    0    2    2]\n",
      " [   7    2    1    0    2    4  941    0    1    0]\n",
      " [   1    6   12    2    1    0    0  997    0    9]\n",
      " [   4    0    1    6    5    3    2    3  947    3]\n",
      " [   4    4    1    7   12    1    1    8    4  967]]\n",
      "              precision    recall  f1-score   support\n",
      "\n",
      "           0       0.98      0.99      0.98       980\n",
      "           1       0.99      0.99      0.99      1135\n",
      "           2       0.97      0.98      0.98      1032\n",
      "           3       0.97      0.98      0.98      1010\n",
      "           4       0.98      0.98      0.98       982\n",
      "           5       0.98      0.98      0.98       892\n",
      "           6       0.99      0.98      0.98       958\n",
      "           7       0.97      0.97      0.97      1028\n",
      "           8       0.98      0.97      0.97       974\n",
      "           9       0.97      0.96      0.97      1009\n",
      "\n",
      "    accuracy                           0.98     10000\n",
      "   macro avg       0.98      0.98      0.98     10000\n",
      "weighted avg       0.98      0.98      0.98     10000\n",
      "\n"
     ]
    }
   ],
   "source": [
    "from sklearn.metrics import classification_report, confusion_matrix\n",
    "\n",
    "print(confusion_matrix(y_test, y_predict))\n",
    "print(classification_report(y_test, y_predict))"
   ]
  },
  {
   "cell_type": "code",
   "execution_count": 11,
   "id": "75794715",
   "metadata": {},
   "outputs": [
    {
     "name": "stdout",
     "output_type": "stream",
     "text": [
      "964.7697553634644\n"
     ]
    }
   ],
   "source": [
    "print(algorithm_execution_time2)"
   ]
  },
  {
   "cell_type": "code",
   "execution_count": null,
   "id": "02dc0f40",
   "metadata": {},
   "outputs": [],
   "source": []
  }
 ],
 "metadata": {
  "kernelspec": {
   "display_name": "Python 3",
   "language": "python",
   "name": "python3"
  },
  "language_info": {
   "codemirror_mode": {
    "name": "ipython",
    "version": 3
   },
   "file_extension": ".py",
   "mimetype": "text/x-python",
   "name": "python",
   "nbconvert_exporter": "python",
   "pygments_lexer": "ipython3",
   "version": "3.8.8"
  }
 },
 "nbformat": 4,
 "nbformat_minor": 5
}
