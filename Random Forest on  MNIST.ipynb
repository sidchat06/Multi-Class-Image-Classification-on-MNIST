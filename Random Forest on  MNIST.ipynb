{
 "cells": [
  {
   "cell_type": "code",
   "execution_count": 1,
   "id": "11901cd9",
   "metadata": {},
   "outputs": [],
   "source": [
    "from time import time\n",
    "initial_time = time()"
   ]
  },
  {
   "cell_type": "code",
   "execution_count": 2,
   "id": "fd131818",
   "metadata": {},
   "outputs": [],
   "source": [
    "import numpy as np\n",
    "import pandas as pd\n",
    "import matplotlib as mpl\n",
    "import matplotlib.pyplot as plt"
   ]
  },
  {
   "cell_type": "code",
   "execution_count": 3,
   "id": "e24df383",
   "metadata": {},
   "outputs": [],
   "source": [
    "from sklearn.datasets import fetch_openml\n",
    "mnist = fetch_openml('mnist_784', version = 1)"
   ]
  },
  {
   "cell_type": "code",
   "execution_count": 4,
   "id": "a5f25128",
   "metadata": {},
   "outputs": [
    {
     "name": "stdout",
     "output_type": "stream",
     "text": [
      "44.30584645271301\n"
     ]
    }
   ],
   "source": [
    "data_load_time = time() - initial_time\n",
    "print(data_load_time)"
   ]
  },
  {
   "cell_type": "code",
   "execution_count": 5,
   "id": "92127f11",
   "metadata": {},
   "outputs": [],
   "source": [
    "x, y = mnist[\"data\"], mnist[\"target\"]"
   ]
  },
  {
   "cell_type": "code",
   "execution_count": 6,
   "id": "b5d1141d",
   "metadata": {},
   "outputs": [],
   "source": [
    "y = y.astype(np.uint8)"
   ]
  },
  {
   "cell_type": "code",
   "execution_count": 7,
   "id": "e2ad8e4c",
   "metadata": {},
   "outputs": [
    {
     "name": "stdout",
     "output_type": "stream",
     "text": [
      "x_train shape :  (60000, 784)\n",
      "x_test shape  :  (10000, 784)\n",
      "y_train shape :  (60000,)\n",
      "y_test shape  :  (10000,)\n"
     ]
    }
   ],
   "source": [
    "x_train, x_test = x[:60000], x[60000:70000]\n",
    "y_train, y_test = y[:60000], y[60000:70000]\n",
    "\n",
    "print(\"x_train shape : \", x_train.shape)\n",
    "print(\"x_test shape  : \", x_test.shape)\n",
    "print(\"y_train shape : \", y_train.shape)\n",
    "print(\"y_test shape  : \", y_test.shape)"
   ]
  },
  {
   "cell_type": "code",
   "execution_count": 8,
   "id": "6710a0f2",
   "metadata": {},
   "outputs": [],
   "source": [
    "algorithm_execution_time1 = time()\n",
    "\n",
    "from sklearn.ensemble import RandomForestClassifier\n",
    "\n",
    "rf=RandomForestClassifier(n_estimators=100)\n",
    "rf.fit(x_train,y_train)\n",
    "\n",
    "algorithm_execution_time2 = time() - algorithm_execution_time1"
   ]
  },
  {
   "cell_type": "code",
   "execution_count": 9,
   "id": "94975f9c",
   "metadata": {},
   "outputs": [],
   "source": [
    "y_pred = rf.predict(x_test)"
   ]
  },
  {
   "cell_type": "code",
   "execution_count": 10,
   "id": "39ed40a1",
   "metadata": {},
   "outputs": [
    {
     "name": "stdout",
     "output_type": "stream",
     "text": [
      "[[ 968    0    0    0    0    3    4    1    3    1]\n",
      " [   0 1124    1    3    0    2    3    0    1    1]\n",
      " [   5    1  998    6    3    1    2    9    7    0]\n",
      " [   0    0    7  974    0    8    0    8    9    4]\n",
      " [   1    0    1    0  955    0    5    0    2   18]\n",
      " [   4    0    1   11    3  860    3    1    6    3]\n",
      " [   7    3    1    0    3    5  936    0    3    0]\n",
      " [   2    4   21    3    1    0    0  986    2    9]\n",
      " [   4    0    5    8    7    5    4    5  926   10]\n",
      " [   9    5    2   15   13    2    1    4    3  955]]\n",
      "              precision    recall  f1-score   support\n",
      "\n",
      "           0       0.97      0.99      0.98       980\n",
      "           1       0.99      0.99      0.99      1135\n",
      "           2       0.96      0.97      0.96      1032\n",
      "           3       0.95      0.96      0.96      1010\n",
      "           4       0.97      0.97      0.97       982\n",
      "           5       0.97      0.96      0.97       892\n",
      "           6       0.98      0.98      0.98       958\n",
      "           7       0.97      0.96      0.97      1028\n",
      "           8       0.96      0.95      0.96       974\n",
      "           9       0.95      0.95      0.95      1009\n",
      "\n",
      "    accuracy                           0.97     10000\n",
      "   macro avg       0.97      0.97      0.97     10000\n",
      "weighted avg       0.97      0.97      0.97     10000\n",
      "\n"
     ]
    }
   ],
   "source": [
    "from sklearn.metrics import classification_report, confusion_matrix\n",
    "print(confusion_matrix(y_test, y_pred))\n",
    "print(classification_report(y_test, y_pred))"
   ]
  },
  {
   "cell_type": "code",
   "execution_count": 11,
   "id": "4ea59f4c",
   "metadata": {},
   "outputs": [
    {
     "name": "stdout",
     "output_type": "stream",
     "text": [
      "49.01059651374817\n"
     ]
    }
   ],
   "source": [
    "print(algorithm_execution_time2)"
   ]
  },
  {
   "cell_type": "code",
   "execution_count": null,
   "id": "bf9277e7",
   "metadata": {},
   "outputs": [],
   "source": []
  }
 ],
 "metadata": {
  "kernelspec": {
   "display_name": "Python 3",
   "language": "python",
   "name": "python3"
  },
  "language_info": {
   "codemirror_mode": {
    "name": "ipython",
    "version": 3
   },
   "file_extension": ".py",
   "mimetype": "text/x-python",
   "name": "python",
   "nbconvert_exporter": "python",
   "pygments_lexer": "ipython3",
   "version": "3.8.8"
  }
 },
 "nbformat": 4,
 "nbformat_minor": 5
}
