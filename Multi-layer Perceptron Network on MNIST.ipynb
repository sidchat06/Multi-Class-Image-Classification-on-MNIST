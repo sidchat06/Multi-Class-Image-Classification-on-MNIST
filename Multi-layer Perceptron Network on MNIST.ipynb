{
 "cells": [
  {
   "cell_type": "code",
   "execution_count": 1,
   "id": "679697a4",
   "metadata": {},
   "outputs": [],
   "source": [
    "from time import time\n",
    "initial_time = time()"
   ]
  },
  {
   "cell_type": "code",
   "execution_count": 2,
   "id": "c36b174e",
   "metadata": {},
   "outputs": [],
   "source": [
    "import numpy as np\n",
    "import pandas as pd\n",
    "import matplotlib as mpl\n",
    "import matplotlib.pyplot as plt"
   ]
  },
  {
   "cell_type": "code",
   "execution_count": 3,
   "id": "3471687d",
   "metadata": {},
   "outputs": [],
   "source": [
    "from sklearn.datasets import fetch_openml\n",
    "mnist = fetch_openml('mnist_784', version = 1)"
   ]
  },
  {
   "cell_type": "code",
   "execution_count": 4,
   "id": "9e994eb4",
   "metadata": {},
   "outputs": [
    {
     "name": "stdout",
     "output_type": "stream",
     "text": [
      "51.67497968673706\n"
     ]
    }
   ],
   "source": [
    "data_load_time = time() - initial_time\n",
    "print(data_load_time)"
   ]
  },
  {
   "cell_type": "code",
   "execution_count": 5,
   "id": "41a7c355",
   "metadata": {},
   "outputs": [],
   "source": [
    "x, y = mnist.data, mnist.target"
   ]
  },
  {
   "cell_type": "code",
   "execution_count": 6,
   "id": "a799a80b",
   "metadata": {},
   "outputs": [],
   "source": [
    "y = y.astype(np.uint8)"
   ]
  },
  {
   "cell_type": "code",
   "execution_count": 7,
   "id": "c82c6be0",
   "metadata": {},
   "outputs": [],
   "source": [
    "x_train, x_test = x[:60000], x[60000:70000]\n",
    "y_train, y_test = y[:60000], y[60000:70000]"
   ]
  },
  {
   "cell_type": "code",
   "execution_count": 9,
   "id": "7038a9bb",
   "metadata": {},
   "outputs": [],
   "source": [
    "algorithm_execution_time1 = time()\n",
    "\n",
    "from sklearn.neural_network import MLPClassifier\n",
    "\n",
    "clf = MLPClassifier(activation = 'relu', max_iter = 2000, hidden_layer_sizes = (16, 16,))\n",
    "clf.fit(x_train, y_train)\n",
    "\n",
    "algorithm_execution_time2 = time() - algorithm_execution_time1"
   ]
  },
  {
   "cell_type": "code",
   "execution_count": 11,
   "id": "a780d47b",
   "metadata": {},
   "outputs": [],
   "source": [
    "y_pred = clf.predict(x_test)"
   ]
  },
  {
   "cell_type": "code",
   "execution_count": 13,
   "id": "d8666663",
   "metadata": {},
   "outputs": [
    {
     "name": "stdout",
     "output_type": "stream",
     "text": [
      "[[ 963    0    3    0    1    2    4    4    3    0]\n",
      " [   0 1114    2    7    0    1    2    1    8    0]\n",
      " [  16    5  947   17   10    1    5   12   19    0]\n",
      " [   2    0   36  931    0   18    0    9    8    6]\n",
      " [   0    2   10    1  918    1   14    6    2   28]\n",
      " [   4    0    1   33    1  803   16    3   18   13]\n",
      " [   9    5    8    1    3    6  922    0    4    0]\n",
      " [   2    5   16   12    2    0    0  953    3   35]\n",
      " [   8    4    7   21    8   14   15    7  880   10]\n",
      " [   3    6    3   13   25    4    2    9    9  935]]\n",
      "              precision    recall  f1-score   support\n",
      "\n",
      "           0       0.96      0.98      0.97       980\n",
      "           1       0.98      0.98      0.98      1135\n",
      "           2       0.92      0.92      0.92      1032\n",
      "           3       0.90      0.92      0.91      1010\n",
      "           4       0.95      0.93      0.94       982\n",
      "           5       0.94      0.90      0.92       892\n",
      "           6       0.94      0.96      0.95       958\n",
      "           7       0.95      0.93      0.94      1028\n",
      "           8       0.92      0.90      0.91       974\n",
      "           9       0.91      0.93      0.92      1009\n",
      "\n",
      "    accuracy                           0.94     10000\n",
      "   macro avg       0.94      0.94      0.94     10000\n",
      "weighted avg       0.94      0.94      0.94     10000\n",
      "\n"
     ]
    }
   ],
   "source": [
    "from sklearn.metrics import classification_report, confusion_matrix\n",
    "\n",
    "print(confusion_matrix(y_test, y_pred))\n",
    "print(classification_report(y_test, y_pred))"
   ]
  },
  {
   "cell_type": "code",
   "execution_count": 14,
   "id": "fd42a4a9",
   "metadata": {},
   "outputs": [
    {
     "name": "stdout",
     "output_type": "stream",
     "text": [
      "723.1296730041504\n"
     ]
    }
   ],
   "source": [
    "print(algorithm_execution_time2)"
   ]
  },
  {
   "cell_type": "code",
   "execution_count": null,
   "id": "01b589a1",
   "metadata": {},
   "outputs": [],
   "source": []
  }
 ],
 "metadata": {
  "kernelspec": {
   "display_name": "Python 3",
   "language": "python",
   "name": "python3"
  },
  "language_info": {
   "codemirror_mode": {
    "name": "ipython",
    "version": 3
   },
   "file_extension": ".py",
   "mimetype": "text/x-python",
   "name": "python",
   "nbconvert_exporter": "python",
   "pygments_lexer": "ipython3",
   "version": "3.8.8"
  }
 },
 "nbformat": 4,
 "nbformat_minor": 5
}
