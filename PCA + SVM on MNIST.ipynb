{
 "cells": [
  {
   "cell_type": "code",
   "execution_count": 1,
   "id": "2a24956c",
   "metadata": {},
   "outputs": [],
   "source": [
    "from time import time\n",
    "initial_time = time()"
   ]
  },
  {
   "cell_type": "code",
   "execution_count": 2,
   "id": "20cfa2b1",
   "metadata": {},
   "outputs": [],
   "source": [
    "import numpy as np\n",
    "import pandas as pd"
   ]
  },
  {
   "cell_type": "code",
   "execution_count": 3,
   "id": "02e3fd44",
   "metadata": {},
   "outputs": [],
   "source": [
    "from sklearn.datasets import fetch_openml\n",
    "mnist = fetch_openml('mnist_784', version = 1)"
   ]
  },
  {
   "cell_type": "code",
   "execution_count": 4,
   "id": "73930dda",
   "metadata": {},
   "outputs": [
    {
     "name": "stdout",
     "output_type": "stream",
     "text": [
      "43.88542342185974\n"
     ]
    }
   ],
   "source": [
    "data_load_time = time() - initial_time\n",
    "print(data_load_time)"
   ]
  },
  {
   "cell_type": "code",
   "execution_count": 5,
   "id": "8ff676a3",
   "metadata": {},
   "outputs": [],
   "source": [
    "x, y = mnist.data, mnist.target\n",
    "y = y.astype(np.uint8)"
   ]
  },
  {
   "cell_type": "code",
   "execution_count": 6,
   "id": "8558c449",
   "metadata": {},
   "outputs": [],
   "source": [
    "from sklearn.preprocessing import StandardScaler\n",
    "\n",
    "scaler = StandardScaler()\n",
    "scaled_x = scaler.fit_transform(x)"
   ]
  },
  {
   "cell_type": "code",
   "execution_count": 7,
   "id": "c67c3ef2",
   "metadata": {},
   "outputs": [],
   "source": [
    "from sklearn.decomposition import PCA\n",
    "\n",
    "pca = PCA(n_components = 70)\n",
    "pca_x = pca.fit_transform(scaled_x)"
   ]
  },
  {
   "cell_type": "code",
   "execution_count": 8,
   "id": "c8793a46",
   "metadata": {},
   "outputs": [],
   "source": [
    "x_train, x_test = pca_x[:60000], pca_x[60000:]\n",
    "y_train, y_test = y[:60000], y[60000:]"
   ]
  },
  {
   "cell_type": "code",
   "execution_count": 9,
   "id": "6f0fc8d8",
   "metadata": {},
   "outputs": [],
   "source": [
    "algorithm_execution_time1 = time()\n",
    "\n",
    "from sklearn.svm import SVC\n",
    "\n",
    "svm_model = SVC()\n",
    "svm_model.fit(x_train, y_train)\n",
    "\n",
    "algorithm_execution_time2 = time() - algorithm_execution_time1"
   ]
  },
  {
   "cell_type": "code",
   "execution_count": 11,
   "id": "95dc9f6a",
   "metadata": {},
   "outputs": [],
   "source": [
    "y_predict = svm_model.predict(x_test)"
   ]
  },
  {
   "cell_type": "code",
   "execution_count": 12,
   "id": "7db64b8e",
   "metadata": {},
   "outputs": [
    {
     "name": "stdout",
     "output_type": "stream",
     "text": [
      "[[ 970    0    1    1    0    3    3    1    1    0]\n",
      " [   0 1128    3    0    0    1    1    0    1    1]\n",
      " [   4    0 1006    2    1    0    1   10    6    2]\n",
      " [   0    0    0  986    1    5    0    9    8    1]\n",
      " [   0    1    6    0  948    0    6    6    3   12]\n",
      " [   2    0    1   13    1  861    5    3    5    1]\n",
      " [   4    3    1    1    3    8  934    1    3    0]\n",
      " [   2    9   12    1    3    0    0  986    2   13]\n",
      " [   3    0    4    7    5    8    1    6  936    4]\n",
      " [   2    5    2    7   15    3    0   11    7  957]]\n",
      "              precision    recall  f1-score   support\n",
      "\n",
      "           0       0.98      0.99      0.99       980\n",
      "           1       0.98      0.99      0.99      1135\n",
      "           2       0.97      0.97      0.97      1032\n",
      "           3       0.97      0.98      0.97      1010\n",
      "           4       0.97      0.97      0.97       982\n",
      "           5       0.97      0.97      0.97       892\n",
      "           6       0.98      0.97      0.98       958\n",
      "           7       0.95      0.96      0.96      1028\n",
      "           8       0.96      0.96      0.96       974\n",
      "           9       0.97      0.95      0.96      1009\n",
      "\n",
      "    accuracy                           0.97     10000\n",
      "   macro avg       0.97      0.97      0.97     10000\n",
      "weighted avg       0.97      0.97      0.97     10000\n",
      "\n"
     ]
    }
   ],
   "source": [
    "from sklearn.metrics import confusion_matrix, classification_report\n",
    "\n",
    "print(confusion_matrix(y_test, y_predict))\n",
    "print(classification_report(y_test, y_predict))"
   ]
  },
  {
   "cell_type": "code",
   "execution_count": 13,
   "id": "474528bd",
   "metadata": {},
   "outputs": [
    {
     "name": "stdout",
     "output_type": "stream",
     "text": [
      "92.91316294670105\n"
     ]
    }
   ],
   "source": [
    "print(algorithm_execution_time2)"
   ]
  },
  {
   "cell_type": "code",
   "execution_count": null,
   "id": "afc5bb5d",
   "metadata": {},
   "outputs": [],
   "source": []
  }
 ],
 "metadata": {
  "kernelspec": {
   "display_name": "Python 3",
   "language": "python",
   "name": "python3"
  },
  "language_info": {
   "codemirror_mode": {
    "name": "ipython",
    "version": 3
   },
   "file_extension": ".py",
   "mimetype": "text/x-python",
   "name": "python",
   "nbconvert_exporter": "python",
   "pygments_lexer": "ipython3",
   "version": "3.8.8"
  }
 },
 "nbformat": 4,
 "nbformat_minor": 5
}
