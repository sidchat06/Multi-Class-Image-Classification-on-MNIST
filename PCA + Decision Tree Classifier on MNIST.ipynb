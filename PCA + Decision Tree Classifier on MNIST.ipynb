{
 "cells": [
  {
   "cell_type": "code",
   "execution_count": 1,
   "id": "c91fd2e7",
   "metadata": {},
   "outputs": [],
   "source": [
    "from time import time\n",
    "initial_time = time()"
   ]
  },
  {
   "cell_type": "code",
   "execution_count": 2,
   "id": "cc7a0844",
   "metadata": {},
   "outputs": [],
   "source": [
    "import numpy as np\n",
    "import pandas as pd\n",
    "import matplotlib.pyplot as plt"
   ]
  },
  {
   "cell_type": "code",
   "execution_count": 3,
   "id": "6faecc79",
   "metadata": {},
   "outputs": [],
   "source": [
    "from sklearn.datasets import fetch_openml\n",
    "mnist = fetch_openml('mnist_784', version = 1)"
   ]
  },
  {
   "cell_type": "code",
   "execution_count": 4,
   "id": "c47cde37",
   "metadata": {},
   "outputs": [
    {
     "name": "stdout",
     "output_type": "stream",
     "text": [
      "89.72405171394348\n"
     ]
    }
   ],
   "source": [
    "data_load_time = time() - initial_time\n",
    "print(data_load_time)"
   ]
  },
  {
   "cell_type": "code",
   "execution_count": 5,
   "id": "e626ea4f",
   "metadata": {},
   "outputs": [],
   "source": [
    "x, y = mnist.data, mnist.target"
   ]
  },
  {
   "cell_type": "code",
   "execution_count": 6,
   "id": "645bc08a",
   "metadata": {},
   "outputs": [],
   "source": [
    "y = y.astype(np.uint8)"
   ]
  },
  {
   "cell_type": "code",
   "execution_count": 7,
   "id": "957351d4",
   "metadata": {},
   "outputs": [],
   "source": [
    "#splitting target \n",
    "\n",
    "y_train, y_test = y[:60000], y[60000:] "
   ]
  },
  {
   "cell_type": "code",
   "execution_count": 8,
   "id": "cf6ae13b",
   "metadata": {},
   "outputs": [],
   "source": [
    "from sklearn.preprocessing import StandardScaler\n",
    "\n",
    "scaler = StandardScaler()\n",
    "scaled_x = scaler.fit_transform(x)"
   ]
  },
  {
   "cell_type": "code",
   "execution_count": 9,
   "id": "60280fbe",
   "metadata": {},
   "outputs": [],
   "source": [
    "from sklearn.decomposition import PCA\n",
    "\n",
    "pca = PCA(n_components = 70)\n",
    "pca_x = pca.fit_transform(scaled_x)"
   ]
  },
  {
   "cell_type": "code",
   "execution_count": 10,
   "id": "f5f68ae5",
   "metadata": {},
   "outputs": [],
   "source": [
    "#splitting of data after scaling and pca\n",
    "\n",
    "x_train, x_test = pca_x[:60000], pca_x[60000:] "
   ]
  },
  {
   "cell_type": "code",
   "execution_count": 11,
   "id": "67c48038",
   "metadata": {},
   "outputs": [],
   "source": [
    "algorithm_execution_time1 = time()\n",
    "\n",
    "from sklearn.tree import DecisionTreeClassifier\n",
    "\n",
    "classifier = DecisionTreeClassifier()\n",
    "clf = classifier.fit(x_train, y_train)\n",
    "\n",
    "algorithm_execution_time2 = time() - algorithm_execution_time1"
   ]
  },
  {
   "cell_type": "code",
   "execution_count": 12,
   "id": "981f632c",
   "metadata": {},
   "outputs": [],
   "source": [
    "y_pred = classifier.predict(x_test)"
   ]
  },
  {
   "cell_type": "code",
   "execution_count": 13,
   "id": "2566db1a",
   "metadata": {},
   "outputs": [
    {
     "name": "stdout",
     "output_type": "stream",
     "text": [
      "[[ 875    0   15    6    9   26   18   13   10    8]\n",
      " [   2 1099    7    5    2    2    3    4   10    1]\n",
      " [  16    6  846   47   18    8   23   16   50    2]\n",
      " [   6    7   33  810    2   48    8   11   64   21]\n",
      " [   4    5   21    6  809   14   15   20   19   69]\n",
      " [  21    3   12   51   14  687   13   12   57   22]\n",
      " [  24    2   30    1   11   19  855    1   12    3]\n",
      " [   3   10   20   17   15    4    1  859   21   78]\n",
      " [  10    6   28   51   28   49   15   14  747   26]\n",
      " [  10    5   12   19   59   13    2   65   23  801]]\n",
      "              precision    recall  f1-score   support\n",
      "\n",
      "           0       0.90      0.89      0.90       980\n",
      "           1       0.96      0.97      0.96      1135\n",
      "           2       0.83      0.82      0.82      1032\n",
      "           3       0.80      0.80      0.80      1010\n",
      "           4       0.84      0.82      0.83       982\n",
      "           5       0.79      0.77      0.78       892\n",
      "           6       0.90      0.89      0.89       958\n",
      "           7       0.85      0.84      0.84      1028\n",
      "           8       0.74      0.77      0.75       974\n",
      "           9       0.78      0.79      0.79      1009\n",
      "\n",
      "    accuracy                           0.84     10000\n",
      "   macro avg       0.84      0.84      0.84     10000\n",
      "weighted avg       0.84      0.84      0.84     10000\n",
      "\n"
     ]
    }
   ],
   "source": [
    "from sklearn.metrics import classification_report, confusion_matrix\n",
    "\n",
    "print(confusion_matrix(y_test, y_pred))\n",
    "print(classification_report(y_test, y_pred))"
   ]
  },
  {
   "cell_type": "code",
   "execution_count": 14,
   "id": "3747942f",
   "metadata": {},
   "outputs": [
    {
     "name": "stdout",
     "output_type": "stream",
     "text": [
      "21.525676488876343\n"
     ]
    }
   ],
   "source": [
    "print(algorithm_execution_time2)"
   ]
  },
  {
   "cell_type": "code",
   "execution_count": null,
   "id": "0bddeb10",
   "metadata": {},
   "outputs": [],
   "source": []
  }
 ],
 "metadata": {
  "kernelspec": {
   "display_name": "Python 3",
   "language": "python",
   "name": "python3"
  },
  "language_info": {
   "codemirror_mode": {
    "name": "ipython",
    "version": 3
   },
   "file_extension": ".py",
   "mimetype": "text/x-python",
   "name": "python",
   "nbconvert_exporter": "python",
   "pygments_lexer": "ipython3",
   "version": "3.8.8"
  }
 },
 "nbformat": 4,
 "nbformat_minor": 5
}
